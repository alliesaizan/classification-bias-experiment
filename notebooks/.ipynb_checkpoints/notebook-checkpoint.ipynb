{
 "cells": [
  {
   "cell_type": "markdown",
   "id": "8844cabb",
   "metadata": {},
   "source": [
    "# An introduction to ML Fairness and Scikit-Learn"
   ]
  },
  {
   "cell_type": "markdown",
   "id": "3db3d7a7",
   "metadata": {},
   "source": [
    "## Table of Contents"
   ]
  },
  {
   "cell_type": "markdown",
   "id": "5b5ee55b",
   "metadata": {},
   "source": [
    "1. [Summary](#summary)\n",
    "2. [Analysis set-up](#setup)\n",
    "3. [The data](#data-overview)\n",
    "4. [Data prep](#data-prep)\n",
    "5. [Exploration](#exploration)\n",
    "6. [Machine learning analysis](#ml-1)\n",
    "7. [Bias mitigation via preprocessing](#bias-mitigation-preprocessing)\n",
    "8. [Bias mitigation via inprocessing](#bias-mitigation-inprocessing)\n",
    "9. [End](#end)"
   ]
  },
  {
   "cell_type": "markdown",
   "id": "8389748e",
   "metadata": {},
   "source": [
    "## Summary <a name=\"summary\"></a>"
   ]
  },
  {
   "cell_type": "markdown",
   "id": "841a19a1",
   "metadata": {},
   "source": [
    "Welcome! The purpose of this notebook is to outline a very simple process for identifying and mitigating machine learning bias using fairlearn and imbalanced-learn. This post will rely on tried-and-true scikit learn best practices, so my hope is that it not only displays ways to handle potential bias issues, but also how to properly structure a basic supervised learning analysis. I am also experimenting with bias mitigation strategies provided by imbalanced-learn and fairlearn, so in the fairness assessment sections I am learning along with you! With that introduction, let's get into the data! \n",
    "\n",
    ":rotating_light: The axis labels on the plots are black, so if you're in GitHub Dark Mode, you will need to switch to Light Mode to view them!"
   ]
  },
  {
   "cell_type": "markdown",
   "id": "bca7de07",
   "metadata": {},
   "source": [
    "## Analysis set-up <a name=\"setup\"></a>"
   ]
  },
  {
   "cell_type": "code",
   "execution_count": 1,
   "id": "5d1894a4",
   "metadata": {},
   "outputs": [
    {
     "name": "stderr",
     "output_type": "stream",
     "text": [
      "\n",
      "Bad key text.latex.unicode in file C:\\Users\\allie\\Anaconda3\\lib\\site-packages\\matplotlib\\mpl-data\\stylelib\\_classic_test.mplstyle, line 112 ('text.latex.unicode : False # use \"ucs\" and \"inputenc\" LaTeX packages for handling')\n",
      "You probably need to get an updated matplotlibrc file from\n",
      "https://github.com/matplotlib/matplotlib/blob/v3.3.4/matplotlibrc.template\n",
      "or from the matplotlib source distribution\n",
      "\n",
      "Bad key savefig.frameon in file C:\\Users\\allie\\Anaconda3\\lib\\site-packages\\matplotlib\\mpl-data\\stylelib\\_classic_test.mplstyle, line 423 ('savefig.frameon : True')\n",
      "You probably need to get an updated matplotlibrc file from\n",
      "https://github.com/matplotlib/matplotlib/blob/v3.3.4/matplotlibrc.template\n",
      "or from the matplotlib source distribution\n",
      "\n",
      "Bad key pgf.debug in file C:\\Users\\allie\\Anaconda3\\lib\\site-packages\\matplotlib\\mpl-data\\stylelib\\_classic_test.mplstyle, line 444 ('pgf.debug           : False')\n",
      "You probably need to get an updated matplotlibrc file from\n",
      "https://github.com/matplotlib/matplotlib/blob/v3.3.4/matplotlibrc.template\n",
      "or from the matplotlib source distribution\n",
      "\n",
      "Bad key verbose.level in file C:\\Users\\allie\\Anaconda3\\lib\\site-packages\\matplotlib\\mpl-data\\stylelib\\_classic_test.mplstyle, line 475 ('verbose.level  : silent      # one of silent, helpful, debug, debug-annoying')\n",
      "You probably need to get an updated matplotlibrc file from\n",
      "https://github.com/matplotlib/matplotlib/blob/v3.3.4/matplotlibrc.template\n",
      "or from the matplotlib source distribution\n",
      "\n",
      "Bad key verbose.fileo in file C:\\Users\\allie\\Anaconda3\\lib\\site-packages\\matplotlib\\mpl-data\\stylelib\\_classic_test.mplstyle, line 476 ('verbose.fileo  : sys.stdout  # a log filename, sys.stdout or sys.stderr')\n",
      "You probably need to get an updated matplotlibrc file from\n",
      "https://github.com/matplotlib/matplotlib/blob/v3.3.4/matplotlibrc.template\n",
      "or from the matplotlib source distribution\n"
     ]
    }
   ],
   "source": [
    "# Imports\n",
    "import warnings\n",
    "warnings.filterwarnings('ignore')\n",
    "\n",
    "import pandas as pd\n",
    "import numpy as np\n",
    "import seaborn as sns\n",
    "sns.set_style(\"white\")\n",
    "from fairlearn.metrics import MetricFrame, false_positive_rate, true_positive_rate, selection_rate, count, demographic_parity_ratio, equalized_odds_ratio\n",
    "%matplotlib inline\n",
    "\n",
    "from sklearn.preprocessing import OneHotEncoder, StandardScaler\n",
    "from sklearn.model_selection import train_test_split\n",
    "from sklearn.metrics import f1_score, accuracy_score, precision_score, recall_score\n",
    "from sklearn.pipeline import Pipeline\n",
    "from sklearn.svm import LinearSVC, SVC\n",
    "from sklearn.neighbors import KNeighborsClassifier\n",
    "from sklearn.linear_model import LogisticRegressionCV, LogisticRegression, SGDClassifier\n",
    "from sklearn.ensemble import BaggingClassifier, ExtraTreesClassifier, RandomForestClassifier"
   ]
  },
  {
   "cell_type": "markdown",
   "id": "8bc88543",
   "metadata": {},
   "source": [
    "## The data <a name=\"data-overview\"></a>"
   ]
  },
  {
   "cell_type": "markdown",
   "id": "67f7e2ec",
   "metadata": {},
   "source": [
    "The data used in this analysis come from the UCI Machine Learning Repository (https://archive.ics.uci.edu/ml/datasets/default+of+credit+card+clients). It represents Taiwanese credit card clients. Our goal will be to predict who is at risk of defaulting on their credit card payment next month, indicated by the variable *default payment next month*. \n",
    "\n",
    "The data include 23 variables:\n",
    "- X1: Amount of the given credit (NT dollar): it includes both the individual consumer credit and his/her family (supplementary) credit.\n",
    "- X2: Gender (1 = male; 2 = female).\n",
    "- X3: Education (1 = graduate school; 2 = university; 3 = high school; 4 = others).\n",
    "- X4: Marital status (1 = married; 2 = single; 3 = others).\n",
    "- X5: Age (year).\n",
    "- X6 - X11: History of past payment. We tracked the past monthly payment records (from April to September, 2005) as follows: - X6 = the repayment status in September, 2005; X7 = the repayment status in August, 2005; . . .;X11 = the repayment status in April, 2005. The measurement scale for the repayment status is: -1 = pay duly; 1 = payment delay for one month; 2 = payment delay for two months; . . .; 8 = payment delay for eight months; 9 = payment delay for nine months and above.\n",
    "- X12-X17: Amount of bill statement (NT dollar). X12 = amount of bill statement in September, 2005; X13 = amount of bill statement in August, 2005; . . .; X17 = amount of bill statement in April, 2005.\n",
    "- X18-X23: Amount of previous payment (NT dollar). X18 = amount paid in September, 2005; X19 = amount paid in August, 2005; . . .;X23 = amount paid in April, 2005."
   ]
  },
  {
   "cell_type": "code",
   "execution_count": 2,
   "id": "8a3c2a66",
   "metadata": {},
   "outputs": [
    {
     "name": "stdout",
     "output_type": "stream",
     "text": [
      "Number of rows: 30000\n",
      "Number of columns: 25\n"
     ]
    }
   ],
   "source": [
    "df = pd.read_excel(\"../data/default of credit card clients.xls\", header = 1)\n",
    "print(f\"Number of rows: {df.shape[0]}\\nNumber of columns: {df.shape[1]}\")"
   ]
  },
  {
   "cell_type": "code",
   "execution_count": 3,
   "id": "05674339",
   "metadata": {},
   "outputs": [
    {
     "data": {
      "text/html": [
       "<div>\n",
       "<style scoped>\n",
       "    .dataframe tbody tr th:only-of-type {\n",
       "        vertical-align: middle;\n",
       "    }\n",
       "\n",
       "    .dataframe tbody tr th {\n",
       "        vertical-align: top;\n",
       "    }\n",
       "\n",
       "    .dataframe thead th {\n",
       "        text-align: right;\n",
       "    }\n",
       "</style>\n",
       "<table border=\"1\" class=\"dataframe\">\n",
       "  <thead>\n",
       "    <tr style=\"text-align: right;\">\n",
       "      <th></th>\n",
       "      <th>ID</th>\n",
       "      <th>LIMIT_BAL</th>\n",
       "      <th>SEX</th>\n",
       "      <th>EDUCATION</th>\n",
       "      <th>MARRIAGE</th>\n",
       "      <th>AGE</th>\n",
       "      <th>PAY_0</th>\n",
       "      <th>PAY_2</th>\n",
       "      <th>PAY_3</th>\n",
       "      <th>PAY_4</th>\n",
       "      <th>...</th>\n",
       "      <th>BILL_AMT4</th>\n",
       "      <th>BILL_AMT5</th>\n",
       "      <th>BILL_AMT6</th>\n",
       "      <th>PAY_AMT1</th>\n",
       "      <th>PAY_AMT2</th>\n",
       "      <th>PAY_AMT3</th>\n",
       "      <th>PAY_AMT4</th>\n",
       "      <th>PAY_AMT5</th>\n",
       "      <th>PAY_AMT6</th>\n",
       "      <th>default payment next month</th>\n",
       "    </tr>\n",
       "  </thead>\n",
       "  <tbody>\n",
       "    <tr>\n",
       "      <th>0</th>\n",
       "      <td>1</td>\n",
       "      <td>20000</td>\n",
       "      <td>2</td>\n",
       "      <td>2</td>\n",
       "      <td>1</td>\n",
       "      <td>24</td>\n",
       "      <td>2</td>\n",
       "      <td>2</td>\n",
       "      <td>-1</td>\n",
       "      <td>-1</td>\n",
       "      <td>...</td>\n",
       "      <td>0</td>\n",
       "      <td>0</td>\n",
       "      <td>0</td>\n",
       "      <td>0</td>\n",
       "      <td>689</td>\n",
       "      <td>0</td>\n",
       "      <td>0</td>\n",
       "      <td>0</td>\n",
       "      <td>0</td>\n",
       "      <td>1</td>\n",
       "    </tr>\n",
       "    <tr>\n",
       "      <th>1</th>\n",
       "      <td>2</td>\n",
       "      <td>120000</td>\n",
       "      <td>2</td>\n",
       "      <td>2</td>\n",
       "      <td>2</td>\n",
       "      <td>26</td>\n",
       "      <td>-1</td>\n",
       "      <td>2</td>\n",
       "      <td>0</td>\n",
       "      <td>0</td>\n",
       "      <td>...</td>\n",
       "      <td>3272</td>\n",
       "      <td>3455</td>\n",
       "      <td>3261</td>\n",
       "      <td>0</td>\n",
       "      <td>1000</td>\n",
       "      <td>1000</td>\n",
       "      <td>1000</td>\n",
       "      <td>0</td>\n",
       "      <td>2000</td>\n",
       "      <td>1</td>\n",
       "    </tr>\n",
       "    <tr>\n",
       "      <th>2</th>\n",
       "      <td>3</td>\n",
       "      <td>90000</td>\n",
       "      <td>2</td>\n",
       "      <td>2</td>\n",
       "      <td>2</td>\n",
       "      <td>34</td>\n",
       "      <td>0</td>\n",
       "      <td>0</td>\n",
       "      <td>0</td>\n",
       "      <td>0</td>\n",
       "      <td>...</td>\n",
       "      <td>14331</td>\n",
       "      <td>14948</td>\n",
       "      <td>15549</td>\n",
       "      <td>1518</td>\n",
       "      <td>1500</td>\n",
       "      <td>1000</td>\n",
       "      <td>1000</td>\n",
       "      <td>1000</td>\n",
       "      <td>5000</td>\n",
       "      <td>0</td>\n",
       "    </tr>\n",
       "    <tr>\n",
       "      <th>3</th>\n",
       "      <td>4</td>\n",
       "      <td>50000</td>\n",
       "      <td>2</td>\n",
       "      <td>2</td>\n",
       "      <td>1</td>\n",
       "      <td>37</td>\n",
       "      <td>0</td>\n",
       "      <td>0</td>\n",
       "      <td>0</td>\n",
       "      <td>0</td>\n",
       "      <td>...</td>\n",
       "      <td>28314</td>\n",
       "      <td>28959</td>\n",
       "      <td>29547</td>\n",
       "      <td>2000</td>\n",
       "      <td>2019</td>\n",
       "      <td>1200</td>\n",
       "      <td>1100</td>\n",
       "      <td>1069</td>\n",
       "      <td>1000</td>\n",
       "      <td>0</td>\n",
       "    </tr>\n",
       "    <tr>\n",
       "      <th>4</th>\n",
       "      <td>5</td>\n",
       "      <td>50000</td>\n",
       "      <td>1</td>\n",
       "      <td>2</td>\n",
       "      <td>1</td>\n",
       "      <td>57</td>\n",
       "      <td>-1</td>\n",
       "      <td>0</td>\n",
       "      <td>-1</td>\n",
       "      <td>0</td>\n",
       "      <td>...</td>\n",
       "      <td>20940</td>\n",
       "      <td>19146</td>\n",
       "      <td>19131</td>\n",
       "      <td>2000</td>\n",
       "      <td>36681</td>\n",
       "      <td>10000</td>\n",
       "      <td>9000</td>\n",
       "      <td>689</td>\n",
       "      <td>679</td>\n",
       "      <td>0</td>\n",
       "    </tr>\n",
       "  </tbody>\n",
       "</table>\n",
       "<p>5 rows × 25 columns</p>\n",
       "</div>"
      ],
      "text/plain": [
       "   ID  LIMIT_BAL  SEX  EDUCATION  MARRIAGE  AGE  PAY_0  PAY_2  PAY_3  PAY_4  \\\n",
       "0   1      20000    2          2         1   24      2      2     -1     -1   \n",
       "1   2     120000    2          2         2   26     -1      2      0      0   \n",
       "2   3      90000    2          2         2   34      0      0      0      0   \n",
       "3   4      50000    2          2         1   37      0      0      0      0   \n",
       "4   5      50000    1          2         1   57     -1      0     -1      0   \n",
       "\n",
       "   ...  BILL_AMT4  BILL_AMT5  BILL_AMT6  PAY_AMT1  PAY_AMT2  PAY_AMT3  \\\n",
       "0  ...          0          0          0         0       689         0   \n",
       "1  ...       3272       3455       3261         0      1000      1000   \n",
       "2  ...      14331      14948      15549      1518      1500      1000   \n",
       "3  ...      28314      28959      29547      2000      2019      1200   \n",
       "4  ...      20940      19146      19131      2000     36681     10000   \n",
       "\n",
       "   PAY_AMT4  PAY_AMT5  PAY_AMT6  default payment next month  \n",
       "0         0         0         0                           1  \n",
       "1      1000         0      2000                           1  \n",
       "2      1000      1000      5000                           0  \n",
       "3      1100      1069      1000                           0  \n",
       "4      9000       689       679                           0  \n",
       "\n",
       "[5 rows x 25 columns]"
      ]
     },
     "execution_count": 3,
     "metadata": {},
     "output_type": "execute_result"
    }
   ],
   "source": [
    "df.head()"
   ]
  },
  {
   "cell_type": "code",
   "execution_count": 4,
   "id": "9b78edb2",
   "metadata": {},
   "outputs": [
    {
     "data": {
      "text/html": [
       "<div>\n",
       "<style scoped>\n",
       "    .dataframe tbody tr th:only-of-type {\n",
       "        vertical-align: middle;\n",
       "    }\n",
       "\n",
       "    .dataframe tbody tr th {\n",
       "        vertical-align: top;\n",
       "    }\n",
       "\n",
       "    .dataframe thead th {\n",
       "        text-align: right;\n",
       "    }\n",
       "</style>\n",
       "<table border=\"1\" class=\"dataframe\">\n",
       "  <thead>\n",
       "    <tr style=\"text-align: right;\">\n",
       "      <th></th>\n",
       "      <th>ID</th>\n",
       "      <th>LIMIT_BAL</th>\n",
       "      <th>SEX</th>\n",
       "      <th>EDUCATION</th>\n",
       "      <th>MARRIAGE</th>\n",
       "      <th>AGE</th>\n",
       "      <th>PAY_0</th>\n",
       "      <th>PAY_2</th>\n",
       "      <th>PAY_3</th>\n",
       "      <th>PAY_4</th>\n",
       "      <th>...</th>\n",
       "      <th>BILL_AMT4</th>\n",
       "      <th>BILL_AMT5</th>\n",
       "      <th>BILL_AMT6</th>\n",
       "      <th>PAY_AMT1</th>\n",
       "      <th>PAY_AMT2</th>\n",
       "      <th>PAY_AMT3</th>\n",
       "      <th>PAY_AMT4</th>\n",
       "      <th>PAY_AMT5</th>\n",
       "      <th>PAY_AMT6</th>\n",
       "      <th>default payment next month</th>\n",
       "    </tr>\n",
       "  </thead>\n",
       "  <tbody>\n",
       "    <tr>\n",
       "      <th>count</th>\n",
       "      <td>30000.000000</td>\n",
       "      <td>30000.000000</td>\n",
       "      <td>30000.000000</td>\n",
       "      <td>30000.000000</td>\n",
       "      <td>30000.000000</td>\n",
       "      <td>30000.000000</td>\n",
       "      <td>30000.000000</td>\n",
       "      <td>30000.000000</td>\n",
       "      <td>30000.000000</td>\n",
       "      <td>30000.000000</td>\n",
       "      <td>...</td>\n",
       "      <td>30000.000000</td>\n",
       "      <td>30000.000000</td>\n",
       "      <td>30000.000000</td>\n",
       "      <td>30000.000000</td>\n",
       "      <td>3.000000e+04</td>\n",
       "      <td>30000.00000</td>\n",
       "      <td>30000.000000</td>\n",
       "      <td>30000.000000</td>\n",
       "      <td>30000.000000</td>\n",
       "      <td>30000.000000</td>\n",
       "    </tr>\n",
       "    <tr>\n",
       "      <th>mean</th>\n",
       "      <td>15000.500000</td>\n",
       "      <td>167484.322667</td>\n",
       "      <td>1.603733</td>\n",
       "      <td>1.853133</td>\n",
       "      <td>1.551867</td>\n",
       "      <td>35.485500</td>\n",
       "      <td>-0.016700</td>\n",
       "      <td>-0.133767</td>\n",
       "      <td>-0.166200</td>\n",
       "      <td>-0.220667</td>\n",
       "      <td>...</td>\n",
       "      <td>43262.948967</td>\n",
       "      <td>40311.400967</td>\n",
       "      <td>38871.760400</td>\n",
       "      <td>5663.580500</td>\n",
       "      <td>5.921163e+03</td>\n",
       "      <td>5225.68150</td>\n",
       "      <td>4826.076867</td>\n",
       "      <td>4799.387633</td>\n",
       "      <td>5215.502567</td>\n",
       "      <td>0.221200</td>\n",
       "    </tr>\n",
       "    <tr>\n",
       "      <th>std</th>\n",
       "      <td>8660.398374</td>\n",
       "      <td>129747.661567</td>\n",
       "      <td>0.489129</td>\n",
       "      <td>0.790349</td>\n",
       "      <td>0.521970</td>\n",
       "      <td>9.217904</td>\n",
       "      <td>1.123802</td>\n",
       "      <td>1.197186</td>\n",
       "      <td>1.196868</td>\n",
       "      <td>1.169139</td>\n",
       "      <td>...</td>\n",
       "      <td>64332.856134</td>\n",
       "      <td>60797.155770</td>\n",
       "      <td>59554.107537</td>\n",
       "      <td>16563.280354</td>\n",
       "      <td>2.304087e+04</td>\n",
       "      <td>17606.96147</td>\n",
       "      <td>15666.159744</td>\n",
       "      <td>15278.305679</td>\n",
       "      <td>17777.465775</td>\n",
       "      <td>0.415062</td>\n",
       "    </tr>\n",
       "    <tr>\n",
       "      <th>min</th>\n",
       "      <td>1.000000</td>\n",
       "      <td>10000.000000</td>\n",
       "      <td>1.000000</td>\n",
       "      <td>0.000000</td>\n",
       "      <td>0.000000</td>\n",
       "      <td>21.000000</td>\n",
       "      <td>-2.000000</td>\n",
       "      <td>-2.000000</td>\n",
       "      <td>-2.000000</td>\n",
       "      <td>-2.000000</td>\n",
       "      <td>...</td>\n",
       "      <td>-170000.000000</td>\n",
       "      <td>-81334.000000</td>\n",
       "      <td>-339603.000000</td>\n",
       "      <td>0.000000</td>\n",
       "      <td>0.000000e+00</td>\n",
       "      <td>0.00000</td>\n",
       "      <td>0.000000</td>\n",
       "      <td>0.000000</td>\n",
       "      <td>0.000000</td>\n",
       "      <td>0.000000</td>\n",
       "    </tr>\n",
       "    <tr>\n",
       "      <th>25%</th>\n",
       "      <td>7500.750000</td>\n",
       "      <td>50000.000000</td>\n",
       "      <td>1.000000</td>\n",
       "      <td>1.000000</td>\n",
       "      <td>1.000000</td>\n",
       "      <td>28.000000</td>\n",
       "      <td>-1.000000</td>\n",
       "      <td>-1.000000</td>\n",
       "      <td>-1.000000</td>\n",
       "      <td>-1.000000</td>\n",
       "      <td>...</td>\n",
       "      <td>2326.750000</td>\n",
       "      <td>1763.000000</td>\n",
       "      <td>1256.000000</td>\n",
       "      <td>1000.000000</td>\n",
       "      <td>8.330000e+02</td>\n",
       "      <td>390.00000</td>\n",
       "      <td>296.000000</td>\n",
       "      <td>252.500000</td>\n",
       "      <td>117.750000</td>\n",
       "      <td>0.000000</td>\n",
       "    </tr>\n",
       "    <tr>\n",
       "      <th>50%</th>\n",
       "      <td>15000.500000</td>\n",
       "      <td>140000.000000</td>\n",
       "      <td>2.000000</td>\n",
       "      <td>2.000000</td>\n",
       "      <td>2.000000</td>\n",
       "      <td>34.000000</td>\n",
       "      <td>0.000000</td>\n",
       "      <td>0.000000</td>\n",
       "      <td>0.000000</td>\n",
       "      <td>0.000000</td>\n",
       "      <td>...</td>\n",
       "      <td>19052.000000</td>\n",
       "      <td>18104.500000</td>\n",
       "      <td>17071.000000</td>\n",
       "      <td>2100.000000</td>\n",
       "      <td>2.009000e+03</td>\n",
       "      <td>1800.00000</td>\n",
       "      <td>1500.000000</td>\n",
       "      <td>1500.000000</td>\n",
       "      <td>1500.000000</td>\n",
       "      <td>0.000000</td>\n",
       "    </tr>\n",
       "    <tr>\n",
       "      <th>75%</th>\n",
       "      <td>22500.250000</td>\n",
       "      <td>240000.000000</td>\n",
       "      <td>2.000000</td>\n",
       "      <td>2.000000</td>\n",
       "      <td>2.000000</td>\n",
       "      <td>41.000000</td>\n",
       "      <td>0.000000</td>\n",
       "      <td>0.000000</td>\n",
       "      <td>0.000000</td>\n",
       "      <td>0.000000</td>\n",
       "      <td>...</td>\n",
       "      <td>54506.000000</td>\n",
       "      <td>50190.500000</td>\n",
       "      <td>49198.250000</td>\n",
       "      <td>5006.000000</td>\n",
       "      <td>5.000000e+03</td>\n",
       "      <td>4505.00000</td>\n",
       "      <td>4013.250000</td>\n",
       "      <td>4031.500000</td>\n",
       "      <td>4000.000000</td>\n",
       "      <td>0.000000</td>\n",
       "    </tr>\n",
       "    <tr>\n",
       "      <th>max</th>\n",
       "      <td>30000.000000</td>\n",
       "      <td>1000000.000000</td>\n",
       "      <td>2.000000</td>\n",
       "      <td>6.000000</td>\n",
       "      <td>3.000000</td>\n",
       "      <td>79.000000</td>\n",
       "      <td>8.000000</td>\n",
       "      <td>8.000000</td>\n",
       "      <td>8.000000</td>\n",
       "      <td>8.000000</td>\n",
       "      <td>...</td>\n",
       "      <td>891586.000000</td>\n",
       "      <td>927171.000000</td>\n",
       "      <td>961664.000000</td>\n",
       "      <td>873552.000000</td>\n",
       "      <td>1.684259e+06</td>\n",
       "      <td>896040.00000</td>\n",
       "      <td>621000.000000</td>\n",
       "      <td>426529.000000</td>\n",
       "      <td>528666.000000</td>\n",
       "      <td>1.000000</td>\n",
       "    </tr>\n",
       "  </tbody>\n",
       "</table>\n",
       "<p>8 rows × 25 columns</p>\n",
       "</div>"
      ],
      "text/plain": [
       "                 ID       LIMIT_BAL           SEX     EDUCATION      MARRIAGE  \\\n",
       "count  30000.000000    30000.000000  30000.000000  30000.000000  30000.000000   \n",
       "mean   15000.500000   167484.322667      1.603733      1.853133      1.551867   \n",
       "std     8660.398374   129747.661567      0.489129      0.790349      0.521970   \n",
       "min        1.000000    10000.000000      1.000000      0.000000      0.000000   \n",
       "25%     7500.750000    50000.000000      1.000000      1.000000      1.000000   \n",
       "50%    15000.500000   140000.000000      2.000000      2.000000      2.000000   \n",
       "75%    22500.250000   240000.000000      2.000000      2.000000      2.000000   \n",
       "max    30000.000000  1000000.000000      2.000000      6.000000      3.000000   \n",
       "\n",
       "                AGE         PAY_0         PAY_2         PAY_3         PAY_4  \\\n",
       "count  30000.000000  30000.000000  30000.000000  30000.000000  30000.000000   \n",
       "mean      35.485500     -0.016700     -0.133767     -0.166200     -0.220667   \n",
       "std        9.217904      1.123802      1.197186      1.196868      1.169139   \n",
       "min       21.000000     -2.000000     -2.000000     -2.000000     -2.000000   \n",
       "25%       28.000000     -1.000000     -1.000000     -1.000000     -1.000000   \n",
       "50%       34.000000      0.000000      0.000000      0.000000      0.000000   \n",
       "75%       41.000000      0.000000      0.000000      0.000000      0.000000   \n",
       "max       79.000000      8.000000      8.000000      8.000000      8.000000   \n",
       "\n",
       "       ...      BILL_AMT4      BILL_AMT5      BILL_AMT6       PAY_AMT1  \\\n",
       "count  ...   30000.000000   30000.000000   30000.000000   30000.000000   \n",
       "mean   ...   43262.948967   40311.400967   38871.760400    5663.580500   \n",
       "std    ...   64332.856134   60797.155770   59554.107537   16563.280354   \n",
       "min    ... -170000.000000  -81334.000000 -339603.000000       0.000000   \n",
       "25%    ...    2326.750000    1763.000000    1256.000000    1000.000000   \n",
       "50%    ...   19052.000000   18104.500000   17071.000000    2100.000000   \n",
       "75%    ...   54506.000000   50190.500000   49198.250000    5006.000000   \n",
       "max    ...  891586.000000  927171.000000  961664.000000  873552.000000   \n",
       "\n",
       "           PAY_AMT2      PAY_AMT3       PAY_AMT4       PAY_AMT5  \\\n",
       "count  3.000000e+04   30000.00000   30000.000000   30000.000000   \n",
       "mean   5.921163e+03    5225.68150    4826.076867    4799.387633   \n",
       "std    2.304087e+04   17606.96147   15666.159744   15278.305679   \n",
       "min    0.000000e+00       0.00000       0.000000       0.000000   \n",
       "25%    8.330000e+02     390.00000     296.000000     252.500000   \n",
       "50%    2.009000e+03    1800.00000    1500.000000    1500.000000   \n",
       "75%    5.000000e+03    4505.00000    4013.250000    4031.500000   \n",
       "max    1.684259e+06  896040.00000  621000.000000  426529.000000   \n",
       "\n",
       "            PAY_AMT6  default payment next month  \n",
       "count   30000.000000                30000.000000  \n",
       "mean     5215.502567                    0.221200  \n",
       "std     17777.465775                    0.415062  \n",
       "min         0.000000                    0.000000  \n",
       "25%       117.750000                    0.000000  \n",
       "50%      1500.000000                    0.000000  \n",
       "75%      4000.000000                    0.000000  \n",
       "max    528666.000000                    1.000000  \n",
       "\n",
       "[8 rows x 25 columns]"
      ]
     },
     "execution_count": 4,
     "metadata": {},
     "output_type": "execute_result"
    }
   ],
   "source": [
    "df.describe()"
   ]
  },
  {
   "cell_type": "code",
   "execution_count": 5,
   "id": "0eee072e",
   "metadata": {},
   "outputs": [
    {
     "data": {
      "text/plain": [
       "ID                            int64\n",
       "LIMIT_BAL                     int64\n",
       "SEX                           int64\n",
       "EDUCATION                     int64\n",
       "MARRIAGE                      int64\n",
       "AGE                           int64\n",
       "PAY_0                         int64\n",
       "PAY_2                         int64\n",
       "PAY_3                         int64\n",
       "PAY_4                         int64\n",
       "PAY_5                         int64\n",
       "PAY_6                         int64\n",
       "BILL_AMT1                     int64\n",
       "BILL_AMT2                     int64\n",
       "BILL_AMT3                     int64\n",
       "BILL_AMT4                     int64\n",
       "BILL_AMT5                     int64\n",
       "BILL_AMT6                     int64\n",
       "PAY_AMT1                      int64\n",
       "PAY_AMT2                      int64\n",
       "PAY_AMT3                      int64\n",
       "PAY_AMT4                      int64\n",
       "PAY_AMT5                      int64\n",
       "PAY_AMT6                      int64\n",
       "default payment next month    int64\n",
       "dtype: object"
      ]
     },
     "execution_count": 5,
     "metadata": {},
     "output_type": "execute_result"
    }
   ],
   "source": [
    "df.dtypes"
   ]
  },
  {
   "cell_type": "markdown",
   "id": "277f4ff9",
   "metadata": {},
   "source": [
    "## Data prep <a name=\"data-prep\"></a>"
   ]
  },
  {
   "cell_type": "markdown",
   "id": "1ae1ac99",
   "metadata": {},
   "source": [
    "Before we can do any machine learning modelling, we first need to prepare the data for analysis. It's not ready in its current form! In the cells below, I walk through various feature engineering steps, including:\n",
    "- Checking whether any rows have missing values and mitigate as-needed\n",
    "- Generating binary representations of the categorical variables\n",
    "- Mapping the *education* column to a label representation\n",
    "- Zeroing out values less than 0 in strictly positive numerical categories\n",
    "- Changing the int-coded variables to pd.numeric types\n",
    "- One-hot encoding the education variable using `pd.get_dummies`"
   ]
  },
  {
   "cell_type": "code",
   "execution_count": 6,
   "id": "aa046a50",
   "metadata": {},
   "outputs": [
    {
     "data": {
      "text/plain": [
       "[('ID', 0.0),\n",
       " ('LIMIT_BAL', 0.0),\n",
       " ('SEX', 0.0),\n",
       " ('EDUCATION', 0.0),\n",
       " ('MARRIAGE', 0.0),\n",
       " ('AGE', 0.0),\n",
       " ('PAY_0', 0.0),\n",
       " ('PAY_2', 0.0),\n",
       " ('PAY_3', 0.0),\n",
       " ('PAY_4', 0.0),\n",
       " ('PAY_5', 0.0),\n",
       " ('PAY_6', 0.0),\n",
       " ('BILL_AMT1', 0.0),\n",
       " ('BILL_AMT2', 0.0),\n",
       " ('BILL_AMT3', 0.0),\n",
       " ('BILL_AMT4', 0.0),\n",
       " ('BILL_AMT5', 0.0),\n",
       " ('BILL_AMT6', 0.0),\n",
       " ('PAY_AMT1', 0.0),\n",
       " ('PAY_AMT2', 0.0),\n",
       " ('PAY_AMT3', 0.0),\n",
       " ('PAY_AMT4', 0.0),\n",
       " ('PAY_AMT5', 0.0),\n",
       " ('PAY_AMT6', 0.0),\n",
       " ('default payment next month', 0.0)]"
      ]
     },
     "execution_count": 6,
     "metadata": {},
     "output_type": "execute_result"
    }
   ],
   "source": [
    "[(col, df[col].isnull().mean()) for col in df.columns.tolist()] #no missing values!"
   ]
  },
  {
   "cell_type": "code",
   "execution_count": 7,
   "id": "8fb0c124",
   "metadata": {},
   "outputs": [],
   "source": [
    "df[\"male\"] = np.where(df.SEX == 1, 1, 0)\n",
    "df[\"under30\"] = np.where(df.AGE < 30, 1, 0)\n",
    "df[\"unmarried\"] = np.where(df.MARRIAGE ==2, 1, 0)\n",
    "df.rename(columns = {'default payment next month':'y'}, inplace = True)\n",
    "\n",
    "educ_dict = {\"EDUCATION\": [\"1\", \"2\", \"3\", \"4\"], \"EDUC_LEVEL\": [\"graduate_school\", \"university\", \"high_school\", \"other\"]}\n",
    "df[\"EDUCATION\"] = df.EDUCATION.astype(str)\n",
    "df = pd.merge(df, pd.DataFrame(educ_dict), on = \"EDUCATION\")\n",
    "\n",
    "for col in ['PAY_0','PAY_2', 'PAY_3', 'PAY_4', 'PAY_5', 'PAY_6']:\n",
    "    df.loc[df[col] < 0, col] = 0"
   ]
  },
  {
   "cell_type": "code",
   "execution_count": 8,
   "id": "20fc90f9",
   "metadata": {},
   "outputs": [],
   "source": [
    "for col in ['LIMIT_BAL', 'PAY_0', 'PAY_2', 'PAY_3', 'PAY_4', 'PAY_5', 'PAY_6',\n",
    "       'BILL_AMT1', 'BILL_AMT2', 'BILL_AMT3', 'BILL_AMT4', 'BILL_AMT5',\n",
    "       'BILL_AMT6', 'PAY_AMT1', 'PAY_AMT2', 'PAY_AMT3', 'PAY_AMT4', 'PAY_AMT5',\n",
    "       'PAY_AMT6']: # int type columns\n",
    "    df[col] = df[col].astype(float)\n",
    "\n",
    "df = pd.get_dummies(df, prefix = \"educ_\", columns = [\"EDUC_LEVEL\"], drop_first = True)"
   ]
  },
  {
   "cell_type": "markdown",
   "id": "1e5d91a3",
   "metadata": {},
   "source": [
    "## Exploration <a name=\"exploration\"></a>"
   ]
  },
  {
   "cell_type": "markdown",
   "id": "58e5f3c6",
   "metadata": {},
   "source": [
    "Now that the data is prepped, let's view how the distribution of our target variable changes across classes. Of particular interest to me are the *SEX*, *Under 30*, and *Unmarried* columns, as those could all be potentially encoding historical biases. "
   ]
  },
  {
   "cell_type": "code",
   "execution_count": 9,
   "id": "4deacba0",
   "metadata": {},
   "outputs": [
    {
     "data": {
      "text/plain": [
       "<AxesSubplot:>"
      ]
     },
     "execution_count": 9,
     "metadata": {},
     "output_type": "execute_result"
    },
    {
     "data": {
      "image/png": "[encoded data removed]",
      "text/plain": [
       "<Figure size 432x288 with 2 Axes>"
      ]
     },
     "metadata": {
      "needs_background": "light"
     },
     "output_type": "display_data"
    }
   ],
   "source": [
    "# Observing pairwise correlations; most of the variables (outside of the bill amounts) are not correlated.\n",
    "corr = df.drop(columns = [\"SEX\", \"AGE\", \"MARRIAGE\", \"ID\", \"EDUCATION\"], axis = 1).corr()\n",
    "sns.heatmap(corr)"
   ]
  },
  {
   "cell_type": "code",
   "execution_count": 10,
   "id": "6c6ebf0a",
   "metadata": {},
   "outputs": [
    {
     "data": {
      "image/png": "[encoded data removed]",
      "text/plain": [
       "<Figure size 360x360 with 1 Axes>"
      ]
     },
     "metadata": {
      "needs_background": "light"
     },
     "output_type": "display_data"
    },
    {
     "data": {
      "image/png": "[encoded data removed]",
      "text/plain": [
       "<Figure size 360x360 with 1 Axes>"
      ]
     },
     "metadata": {
      "needs_background": "light"
     },
     "output_type": "display_data"
    },
    {
     "data": {
      "image/png": "[encoded data removed]",
      "text/plain": [
       "<Figure size 360x360 with 1 Axes>"
      ]
     },
     "metadata": {
      "needs_background": "light"
     },
     "output_type": "display_data"
    }
   ],
   "source": [
    "# NOTE: Sex = 1 if MALE and 2 if FEMALE\n",
    "for col in [\"SEX\", \"under30\", \"unmarried\"]:\n",
    "    sns.catplot(x = col, y = \"y\",  kind=\"bar\", data = df)"
   ]
  },
  {
   "cell_type": "markdown",
   "id": "da372d02",
   "metadata": {},
   "source": [
    "The catplots above show the following results: \n",
    "- Women default on their credit card payments less frequently than men do\n",
    "- Credit card holders under age 30 default on their payments slightly more frequently than those over 30 do\n",
    "- Unmarried individuals default on their payments slightly less than married individuals do\n",
    "\n",
    "Our classification model is going to pick up on these trends and use them to predict the likelihood of defaulting on a payment. The only result that looks slightly suspicious to me is that younger credit card holders default on their payments more often. My worry is that the model may reflect this reality by classifying younger folks are more likely to default, even when that isn't the case! Let's move on to the modelling stage to see if that happens."
   ]
  },
  {
   "cell_type": "markdown",
   "id": "ab0df977",
   "metadata": {},
   "source": [
    "## Machine learning analysis <a name=\"ml-1\"></a>"
   ]
  },
  {
   "cell_type": "markdown",
   "id": "360e297e",
   "metadata": {},
   "source": [
    "A priori, I don't know which classification model is going to give me the best fit. So the strategy I am going to take instead of fitting different models one-by-one is running a pipeline fit through a series of popular classifiers in an automated fashion. I'm going to use a loop to perform the following steps:\n",
    "1. Create a pipeline with the steps `Standard Scalar` (scale the numerical features to have a standard normal distribution) and fitting a classifier\n",
    "2. Split the data into train and test sets\n",
    "3. Fit the pipeline to the training data\n",
    "4. Generate the predicted values\n",
    "5. Return the accuracy score\n",
    "\n",
    "All the results will be appended to the `results` list, and I'll show you which ones performed the best (by the accuracy score, that is!)"
   ]
  },
  {
   "cell_type": "code",
   "execution_count": 11,
   "id": "b617141a",
   "metadata": {},
   "outputs": [],
   "source": [
    "# Dropping the old variables that we recoded earlier\n",
    "X = df.drop(columns = [\"SEX\", \"AGE\", \"MARRIAGE\", \"ID\", \"EDUCATION\", \"y\"], axis = 1)\n",
    "y = df.y"
   ]
  },
  {
   "cell_type": "code",
   "execution_count": 12,
   "id": "caeb6237",
   "metadata": {},
   "outputs": [
    {
     "name": "stdout",
     "output_type": "stream",
     "text": [
      "[('SVC', 0.8199352576207176), ('RandomForestClassifier', 0.8166981386565957), ('LinearSVC', 0.8156190990018883), ('LogisticRegression', 0.8156190990018883), ('LogisticRegressionCV', 0.8156190990018883), ('SGDClassifier', 0.8115727002967359), ('ExtraTreesClassifier', 0.8076611815484219), ('BaggingClassifier', 0.8041543026706232), ('KNeighborsClassifier', 0.7874291880226598)]\n"
     ]
    }
   ],
   "source": [
    "# define the models we want to test\n",
    "models = [\n",
    "    SVC(gamma='auto'), LinearSVC(),\n",
    "    SGDClassifier(max_iter=100, tol=1e-3), KNeighborsClassifier(),\n",
    "    LogisticRegression(solver='lbfgs'), LogisticRegressionCV(cv=3),\n",
    "    BaggingClassifier(), ExtraTreesClassifier(n_estimators=300),\n",
    "    RandomForestClassifier(n_estimators=300)\n",
    "]\n",
    "\n",
    "scores = []\n",
    "\n",
    "# run models\n",
    "for estimator in models:\n",
    "    \n",
    "    # pipeline\n",
    "    pipe = Pipeline([\n",
    "        ('scaler', StandardScaler(with_mean=False)),\n",
    "        ('estimator', estimator)\n",
    "    ])\n",
    "\n",
    "    X_train, X_test, y_train, y_test = train_test_split(X, y, random_state=0)\n",
    "    \n",
    "    # Fit models\n",
    "    pipe.fit(X_train, y_train)\n",
    "    \n",
    "    # Generate predictions\n",
    "    expected = y_test\n",
    "    predicted = pipe.predict(X_test)\n",
    "    score = accuracy_score(y_true = expected, y_pred = predicted)\n",
    "\n",
    "    # Compute and return F1 (harmonic mean of precision and recall)\n",
    "    scores.append((estimator.__class__.__name__, score) )\n",
    "\n",
    "print(sorted(scores, key = lambda s: s[1], reverse= True))"
   ]
  },
  {
   "cell_type": "markdown",
   "id": "4a0d4c77",
   "metadata": {},
   "source": [
    "So the best classifier by accuracy is the `SVC`, which implements a support vector machine model. It achieves an accuracy of 81.9%. That's not great! Let's see how the evaluation metrics break down across the attributes we deemed as sensitive."
   ]
  },
  {
   "cell_type": "code",
   "execution_count": 13,
   "id": "8979ecc2",
   "metadata": {},
   "outputs": [],
   "source": [
    "pipe = Pipeline([ \n",
    "    ('scaler', StandardScaler(with_mean=False)), \n",
    "    ('estimator', SVC(gamma='auto') ) \n",
    "    ])\n",
    "\n",
    "X_train, X_test, y_train, y_test = train_test_split(X, y, random_state=0)\n",
    "\n",
    "pipe.fit(X_train, y_train)\n",
    "    \n",
    "expected = y_test\n",
    "predicted = pipe.predict(X_test)\n",
    "\n",
    "metrics = {\n",
    "    'accuracy': accuracy_score,\n",
    "    'precision': precision_score,\n",
    "    'recall': recall_score,\n",
    "    'false positive rate': false_positive_rate,\n",
    "    'true positive rate': true_positive_rate,\n",
    "    'selection rate': selection_rate,\n",
    "    'count': count}"
   ]
  },
  {
   "cell_type": "markdown",
   "id": "63adab41",
   "metadata": {},
   "source": [
    "Let's start by assessing parity across gender. We'll review how the model performs across a variety of different evaluation metrics for each gender."
   ]
  },
  {
   "cell_type": "code",
   "execution_count": 14,
   "id": "f90c8ca6",
   "metadata": {},
   "outputs": [
    {
     "name": "stdout",
     "output_type": "stream",
     "text": [
      "      accuracy precision    recall false positive rate true positive rate  \\\n",
      "male                                                                        \n",
      "0     0.826461  0.670782  0.342078            0.044668           0.342078   \n",
      "1     0.809656  0.696721  0.368497            0.050754           0.368497   \n",
      "\n",
      "     selection rate count  \n",
      "male                       \n",
      "0          0.107166  4535  \n",
      "1          0.127127  2879  \n"
     ]
    },
    {
     "data": {
      "text/plain": [
       "array([[<AxesSubplot:title={'center':'accuracy'}, xlabel='male'>,\n",
       "        <AxesSubplot:title={'center':'precision'}, xlabel='male'>,\n",
       "        <AxesSubplot:title={'center':'recall'}, xlabel='male'>],\n",
       "       [<AxesSubplot:title={'center':'false positive rate'}, xlabel='male'>,\n",
       "        <AxesSubplot:title={'center':'true positive rate'}, xlabel='male'>,\n",
       "        <AxesSubplot:title={'center':'selection rate'}, xlabel='male'>],\n",
       "       [<AxesSubplot:title={'center':'count'}, xlabel='male'>,\n",
       "        <AxesSubplot:xlabel='male'>, <AxesSubplot:xlabel='male'>]],\n",
       "      dtype=object)"
      ]
     },
     "execution_count": 14,
     "metadata": {},
     "output_type": "execute_result"
    },
    {
     "data": {
      "image/png": "[encoded data removed]",
      "text/plain": [
       "<Figure size 864x576 with 9 Axes>"
      ]
     },
     "metadata": {
      "needs_background": "light"
     },
     "output_type": "display_data"
    }
   ],
   "source": [
    "gender_frame = MetricFrame(metrics=metrics, y_true=expected, y_pred=predicted, sensitive_features=X_test[\"male\"])\n",
    "print(gender_frame.by_group)\n",
    "\n",
    "gender_frame.by_group.plot.bar(\n",
    "    subplots=True,\n",
    "    layout=[3, 3],\n",
    "    legend=False,\n",
    "    figsize=[12, 8],\n",
    "    title=\"Show all metrics\",\n",
    ")"
   ]
  },
  {
   "cell_type": "markdown",
   "id": "36c28cca",
   "metadata": {},
   "source": [
    "Okay, so as you can see above, the model is actually likelier to classify men as defaulting on a payment even when in reality they did not (false positive class). Men also have a higher *selection rate*, or percentage of the population which have ‘1’ as their label. Let's also look at the few boilerplate fair ML classification metrics to make sure nothing sketchy is going on."
   ]
  },
  {
   "cell_type": "code",
   "execution_count": 15,
   "id": "0fad8448",
   "metadata": {},
   "outputs": [
    {
     "name": "stdout",
     "output_type": "stream",
     "text": [
      "Demographic parity ratio: 0.8429844379778407\n",
      "Equalized odds ratio: 0.8800760559554529\n"
     ]
    }
   ],
   "source": [
    "# Demographic parity ratio is defined as the ratio between the smallest and the largest group-level selection rate across all sensitive attributes\n",
    "# The closer to 1, the better!\n",
    "d = demographic_parity_ratio(y_true=expected, y_pred=predicted, sensitive_features=X_test[\"male\"])\n",
    "\n",
    "# Equalized odds ratio is defined as the smaller of two metrics: true_positive_rate_ratio and false_positive_rate_ratio\n",
    "# The closer to 1, the better!\n",
    "e = equalized_odds_ratio(y_true=expected, y_pred=predicted, sensitive_features=X_test[\"male\"])\n",
    "\n",
    "print(f\"Demographic parity ratio: {d}\\nEqualized odds ratio: {e}\")"
   ]
  },
  {
   "cell_type": "markdown",
   "id": "0a9491e2",
   "metadata": {},
   "source": [
    "Both ratios are close to 1, which is pretty good but not perfect. How does this analysis change for the *under30* variable?"
   ]
  },
  {
   "cell_type": "code",
   "execution_count": 16,
   "id": "4b959cb3",
   "metadata": {},
   "outputs": [
    {
     "name": "stdout",
     "output_type": "stream",
     "text": [
      "         accuracy precision    recall false positive rate true positive rate  \\\n",
      "under30                                                                        \n",
      "0          0.8213  0.693161  0.340909            0.042717           0.340909   \n",
      "1        0.817133  0.662379  0.377982            0.055762           0.377982   \n",
      "\n",
      "        selection rate count  \n",
      "under30                       \n",
      "0             0.108504  4986  \n",
      "1             0.128089  2428  \n",
      "Demographic parity ratio: 0.8470972742972929\n",
      "Equalized odds ratio: 0.7660662206210328\n"
     ]
    },
    {
     "data": {
      "image/png": "[encoded data removed]",
      "text/plain": [
       "<Figure size 864x576 with 9 Axes>"
      ]
     },
     "metadata": {
      "needs_background": "light"
     },
     "output_type": "display_data"
    }
   ],
   "source": [
    "age_frame = MetricFrame(metrics=metrics, y_true=expected, y_pred=predicted, sensitive_features=X_test[\"under30\"])\n",
    "print(age_frame.by_group)\n",
    "\n",
    "age_frame.by_group.plot.bar(\n",
    "    subplots=True,\n",
    "    layout=[3, 3],\n",
    "    legend=False,\n",
    "    figsize=[12, 8],\n",
    "    title=\"Show all metrics\",\n",
    ")\n",
    "\n",
    "d = demographic_parity_ratio(y_true=expected, y_pred=predicted, sensitive_features=X_test[\"under30\"])\n",
    "e = equalized_odds_ratio(y_true=expected, y_pred=predicted, sensitive_features=X_test[\"under30\"])\n",
    "\n",
    "print(f\"Demographic parity ratio: {d}\\nEqualized odds ratio: {e}\")"
   ]
  },
  {
   "cell_type": "markdown",
   "id": "26abaf58",
   "metadata": {},
   "source": [
    "The fairness metrics are far worse for the *under30* variable. Credit card holders under age 30 are erroneously predicted as likely to default (see the false positive rate). If you look at the count graph, you'll also see that there are way less observations for the under 30 group. One potential way to mitigate bias in our results is to reconstruct our dataset so that we have more representations of the minority group. \n",
    "\n",
    "In a machine learning analysis, there are three places where bias mitigation can occur:\n",
    "1. Preprocessing: Preprocessing involves identifying data gaps before the machine learning analysis begins. Typically, this can involve resampling/reweighting data to increase representation of underrepresented minority groups and feature engineering by modyfing the labels or label-data pairs.\n",
    "2. In-processing: In-processing involes including a regularization parameter to a model to optimize the model for fairness while it's training. \n",
    "3. Post-processing: Post-processing involves changing the thresholds of the evaluation metric you're using to incorporate fairness goals.\n",
    "\n",
    "In an ideal world, bias mitigation would begin before machine learning starts. It's easier to achieve the goals of fairness AND accuracy, precision, AOC_RUC score, etc. if we reweight/resample the data before running a model. Why is this the case? Well, during in-processing, if you're trying to achieve an outcome while adhering to a fairness constraint, your outcome may be worse off than if the constraint was not there. Similarly, if you're adjusting the threshold of an evaluation metric to accomodate a fairness constraint, even if you get the metric to an acceptable level, that metric is reflective of the model's capability to pick up on signals in the data, and one signal is data bias. I've explained this before as garbage-in, garbage-out; even if you dress up the garbage you get from the model, that doesn't change the fact that garbage was used to produce it!\n",
    "\n",
    "In the section below, I attempt to address the disparate outcomes for younger credit card holders using resampling."
   ]
  },
  {
   "cell_type": "markdown",
   "id": "bd800496",
   "metadata": {},
   "source": [
    "## Bias mitigation via preprocessing <a name=\"bias-mitigation-preprocessing\"></a>"
   ]
  },
  {
   "cell_type": "code",
   "execution_count": 17,
   "id": "d5fc1209",
   "metadata": {},
   "outputs": [],
   "source": [
    "from imblearn.over_sampling import SMOTE\n",
    "from imblearn.pipeline import make_pipeline\n",
    "\n",
    "# Redo the pipeline with the SMOTE parameter added in and reassess the results\n",
    "\n",
    "pipe = make_pipeline(SMOTE(random_state=0), StandardScaler(with_mean=False), SVC(gamma='auto') )\n",
    "\n",
    "X_train, X_test, y_train, y_test = train_test_split(X, y, random_state=0)\n",
    "    \n",
    "pipe.fit(X_train, y_train)\n",
    "\n",
    "y_true = y_test\n",
    "y_pred = pipe.predict(X_test)"
   ]
  },
  {
   "cell_type": "code",
   "execution_count": 18,
   "id": "3a4d53c2",
   "metadata": {},
   "outputs": [
    {
     "name": "stdout",
     "output_type": "stream",
     "text": [
      "         accuracy precision    recall false positive rate true positive rate  \\\n",
      "under30                                                                        \n",
      "0        0.755515  0.454753  0.543636            0.184508           0.543636   \n",
      "1        0.794481  0.548936  0.473394            0.112586           0.473394   \n",
      "\n",
      "        selection rate count  \n",
      "under30                       \n",
      "0             0.263738  4986  \n",
      "1             0.193575  2428  \n",
      "Demographic parity ratio: 0.7339655852819763\n",
      "Equalized odds ratio: 0.6101957542750189\n"
     ]
    },
    {
     "data": {
      "image/png": "[encoded data removed]",
      "text/plain": [
       "<Figure size 864x576 with 9 Axes>"
      ]
     },
     "metadata": {
      "needs_background": "light"
     },
     "output_type": "display_data"
    }
   ],
   "source": [
    "age_frame = MetricFrame(metrics=metrics, y_true=y_true, y_pred=y_pred, sensitive_features=X_test[\"under30\"])\n",
    "\n",
    "age_frame.by_group.plot.bar(\n",
    "    subplots=True,\n",
    "    layout=[3, 3],\n",
    "    legend=False,\n",
    "    figsize=[12, 8],\n",
    "    title=\"Show all metrics\",\n",
    ")\n",
    "\n",
    "print(age_frame.by_group)\n",
    "\n",
    "d = demographic_parity_ratio(y_true=y_true, y_pred=y_pred, sensitive_features=X_test[\"under30\"])\n",
    "e = equalized_odds_ratio(y_true=y_true, y_pred=y_pred, sensitive_features=X_test[\"under30\"])\n",
    "print(f\"Demographic parity ratio: {d}\\nEqualized odds ratio: {e}\")"
   ]
  },
  {
   "cell_type": "markdown",
   "id": "e72df99c",
   "metadata": {},
   "source": [
    "After applying SMOTE resampling, we can see that younger cardholders now have a lower false positive and lower selection rate than they did previously. The accuracy has fallen to slightly under 80%. The count reflects the underrepresentation in the original dataset and should be ignored. Because  outcomes for the under-30 group are now better across the board, demographic parity and equalized odds suffer. In a more rigorous analysis, I'd experiment with other sampling and reweighting schemes to get as close to equal outcomes between groups as possible. "
   ]
  },
  {
   "cell_type": "markdown",
   "id": "1e56b080",
   "metadata": {},
   "source": [
    "## Bias mitigation via inprocessing <a name=\"bias-mitigation-inprocessing\"></a>"
   ]
  },
  {
   "cell_type": "markdown",
   "id": "92bdc033",
   "metadata": {},
   "source": [
    "In the cell below, I apply an inprocessing method, a reduction (of the demographic parity flavor) to constrain the SVC classifier along a fairness requirement. "
   ]
  },
  {
   "cell_type": "code",
   "execution_count": 20,
   "id": "750dc6b5",
   "metadata": {},
   "outputs": [],
   "source": [
    "from fairlearn.reductions import ExponentiatedGradient, DemographicParity\n",
    "\n",
    "dp = DemographicParity(difference_bound=0.01)\n",
    "reduction = ExponentiatedGradient(SVC(gamma='auto'), dp)"
   ]
  },
  {
   "cell_type": "code",
   "execution_count": null,
   "id": "ed52b3e5",
   "metadata": {},
   "outputs": [],
   "source": [
    "reduction.fit(X_train, y_train, sensitive_features=X_train[\"under30\"])\n",
    "y_pred = reduction.predict(X_test, random_state = 0)"
   ]
  },
  {
   "cell_type": "code",
   "execution_count": null,
   "id": "8787fb1e",
   "metadata": {},
   "outputs": [],
   "source": [
    "age_frame = MetricFrame(metrics=metrics, y_true=y_test, y_pred=y_pred, sensitive_features=X_test[\"under30\"])\n",
    "\n",
    "print(age_frame.by_group)\n",
    "\n",
    "d = demographic_parity_ratio(y_true=y_true, y_pred=y_pred, sensitive_features=X_test[\"under30\"])\n",
    "e = equalized_odds_ratio(y_true=y_true, y_pred=y_pred, sensitive_features=X_test[\"under30\"])\n",
    "print(f\"Demographic parity ratio: {d}\\nEqualized odds ratio: {e}\")"
   ]
  },
  {
   "cell_type": "markdown",
   "id": "382b3a97",
   "metadata": {},
   "source": [
    "As you can see in the results above, nearly every evaluation metric is zeroed out. Demographic parity and equalized odds are also missing. I'd consider these results to be unstable. If I wanted to improve precision and recall across both groups, I'd continue to toggle the `DemographicParity()` constraint until I attained satisfactory results. The fairlearn documentation notes that picking the appropriate evaluation metric constraint is crucial, and in a real-world situation, this is something that I or my team would have determined ahead of time in accordance with the project's goals.\n",
    "\n",
    "In a more rigorous analysis, I'd also do a grid search on the hyperparameters of the SDG classifier to ensure I got the best fit."
   ]
  },
  {
   "cell_type": "markdown",
   "id": "8a00bd8a",
   "metadata": {},
   "source": [
    "## End <a name=\"end\"></a>"
   ]
  },
  {
   "cell_type": "markdown",
   "id": "727cd4b9",
   "metadata": {},
   "source": [
    "Thank you for reading :smile:. If you'd like to learn more about ML fairness, check out [my presentation](https://docs.google.com/presentation/d/e/2PACX-1vRv7_luengkBK33VtRxdLIdbYiFb-bOH-FeN2zTsyqHQHFAY7PXnOXARIA-s6lglhT6fVLb8sGDs6a3/pub?start=false&loop=false&delayms=10000) on the topic and the [the fairlearn documentation](https://fairlearn.org/main/user_guide/fairness_in_machine_learning.html#fairness-in-machine-learning)! "
   ]
  }
 ],
 "metadata": {
  "interpreter": {
   "hash": "39d92254d88828cb833fef329aa286bd66405e676caefd4b0f9c559b03876488"
  },
  "kernelspec": {
   "display_name": "Python 3.8.8 64-bit ('allie': virtualenv)",
   "language": "python",
   "name": "python388jvsc74a57bd0cc7a45abd43d275bb49464b859dec45b0d4699932a322405fee0d43bf18d4b1d"
  },
  "language_info": {
   "codemirror_mode": {
    "name": "ipython",
    "version": 3
   },
   "file_extension": ".py",
   "mimetype": "text/x-python",
   "name": "python",
   "nbconvert_exporter": "python",
   "pygments_lexer": "ipython3",
   "version": "3.8.8"
  }
 },
 "nbformat": 4,
 "nbformat_minor": 5
}
